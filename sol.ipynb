{
 "cells": [
  {
   "cell_type": "code",
   "execution_count": 21,
   "metadata": {},
   "outputs": [
    {
     "name": "stderr",
     "output_type": "stream",
     "text": [
      "Neither CUDA nor MPS are available - defaulting to CPU. Note: This module is much faster with a GPU.\n"
     ]
    }
   ],
   "source": [
    "from data import find_board, split_boxes, get_perspective\n",
    "import cv2\n",
    "import numpy as np\n",
    "\n",
    "import easyocr\n",
    "reader = easyocr.Reader(['en'])\n",
    "import imutils"
   ]
  },
  {
   "cell_type": "code",
   "execution_count": 19,
   "metadata": {},
   "outputs": [],
   "source": [
    "def increase_brightness(img, value=30):\n",
    "    hsv = cv2.cvtColor(img, cv2.COLOR_BGR2HSV)\n",
    "    h, s, v = cv2.split(hsv)\n",
    "\n",
    "    lim = 255 - value\n",
    "    v[v > lim] = 255\n",
    "    v[v <= lim] += value\n",
    "\n",
    "    final_hsv = cv2.merge((h, s, v))\n",
    "    img = cv2.cvtColor(final_hsv, cv2.COLOR_HSV2BGR)\n",
    "    return img\n",
    "\n",
    "def contrast(img):\n",
    "    lab= cv2.cvtColor(img, cv2.COLOR_BGR2LAB)\n",
    "    l_channel, a, b = cv2.split(lab)\n",
    "\n",
    "    # Applying CLAHE to L-channel\n",
    "    # feel free to try different values for the limit and grid size:\n",
    "    clahe = cv2.createCLAHE(clipLimit=2.0, tileGridSize=(8,8))\n",
    "    cl = clahe.apply(l_channel)\n",
    "\n",
    "    # merge the CLAHE enhanced L-channel with the a and b channel\n",
    "    limg = cv2.merge((cl,a,b))\n",
    "\n",
    "    # Converting image from LAB Color model to BGR color spcae\n",
    "    enhanced_img = cv2.cvtColor(limg, cv2.COLOR_LAB2BGR)\n",
    "\n",
    "    return enhanced_img\n",
    "\n",
    "def blued(img):\n",
    "    gray = cv2.cvtColor(img, cv2.COLOR_BGR2GRAY)\n",
    "    ret, thresh = cv2.threshold(gray, 100, 255, cv2.THRESH_BINARY_INV)\n",
    "    return thresh"
   ]
  },
  {
   "cell_type": "code",
   "execution_count": 56,
   "metadata": {},
   "outputs": [
    {
     "name": "stdout",
     "output_type": "stream",
     "text": [
      "15\n",
      "4\n"
     ]
    }
   ],
   "source": [
    "# Read image\n",
    "img = cv2.imread('test3.jpg')\n",
    "saturated = increase_brightness(img)\n",
    "blue = blued(saturated)\n",
    "\n",
    "cv2.imwrite(\"sat.png\", saturated)\n",
    "cv2.imwrite(\"blue.png\", blue)\n",
    "input_size = 48\n",
    "\n",
    "contours, hierarchy = cv2.findContours(blue.copy(), cv2.RETR_TREE, cv2.CHAIN_APPROX_SIMPLE)\n",
    "# contours  = imutils.grab_contours(keypoints)\n",
    "\n",
    "newimg = cv2.drawContours(saturated.copy(), contours, -1, (0, 255, 0), 3)\n",
    "cv2.imwrite(\"Contour.png\", newimg)\n",
    "contours = sorted(contours, key=cv2.contourArea, reverse=True)[:15]\n",
    "location = None\n",
    "print(len(contours))\n",
    "# Finds rectangular contour\n",
    "for i,contour in enumerate(contours):\n",
    "    epsilon = 0.1*cv2.arcLength(contour,True)\n",
    "    newimg = cv2.drawContours(img.copy(), contour, -1, (0, 255, 0), 3)\n",
    "    cv2.imwrite(\"Contour\"+str(i)+\".png\", newimg)\n",
    "    approx = cv2.approxPolyDP(contour, epsilon, True)\n",
    "    print(len(approx))\n",
    "    if len(approx) == 4:\n",
    "        location = approx\n",
    "        break\n",
    "location = np.roll(location, -np.argmin(location.sum(axis=1)), axis=0)\n",
    "result = get_perspective(img, location)"
   ]
  },
  {
   "cell_type": "code",
   "execution_count": 55,
   "metadata": {},
   "outputs": [
    {
     "data": {
      "text/plain": [
       "array([[[ 265,  367]],\n",
       "\n",
       "       [[ 307, 2764]],\n",
       "\n",
       "       [[2767, 2765]],\n",
       "\n",
       "       [[2720,  240]]], dtype=int32)"
      ]
     },
     "execution_count": 55,
     "metadata": {},
     "output_type": "execute_result"
    }
   ],
   "source": [
    "np.roll(location, -np.argmin(location.sum(axis=1)), axis=0)"
   ]
  },
  {
   "cell_type": "code",
   "execution_count": 53,
   "metadata": {},
   "outputs": [
    {
     "data": {
      "text/plain": [
       "(1,\n",
       " (4, 1, 2),\n",
       " array([[[2720,  240]],\n",
       " \n",
       "        [[ 265,  367]],\n",
       " \n",
       "        [[ 307, 2764]],\n",
       " \n",
       "        [[2767, 2765]]], dtype=int32))"
      ]
     },
     "execution_count": 53,
     "metadata": {},
     "output_type": "execute_result"
    }
   ],
   "source": [
    "np.argmin(location.sum(axis=1)), location.shape, location.reshape()"
   ]
  },
  {
   "cell_type": "code",
   "execution_count": 63,
   "metadata": {},
   "outputs": [],
   "source": [
    "def split_boxes2(board):\n",
    "    \"\"\"Takes a sudoku board and split it into 81 cells. \n",
    "        each cell contains an element of that board either given or an empty cell.\"\"\"\n",
    "    rows = np.vsplit(board,9)\n",
    "    boxes = []\n",
    "    for r in rows:\n",
    "        cols = np.hsplit(r,9)\n",
    "        for box in cols:\n",
    "            # box = cv2.resize(box, (input_size, input_size))/255.0\n",
    "            # cv2.imshow(\"Splitted block\", box)\n",
    "            # cv2.waitKey(50)\n",
    "            boxes.append(box)\n",
    "    return boxes"
   ]
  },
  {
   "cell_type": "code",
   "execution_count": 64,
   "metadata": {},
   "outputs": [],
   "source": [
    "gray = cv2.cvtColor(result, cv2.COLOR_BGR2GRAY)\n",
    "\n",
    "cv2.imwrite(\"gray.png\", gray)\n",
    "# print(gray.shape)\n",
    "rois = split_boxes2(gray)\n",
    "# rois = np.array(rois).reshape(-1, input_size, input_size, 1)"
   ]
  },
  {
   "cell_type": "code",
   "execution_count": 65,
   "metadata": {},
   "outputs": [
    {
     "data": {
      "text/plain": [
       "True"
      ]
     },
     "execution_count": 65,
     "metadata": {},
     "output_type": "execute_result"
    }
   ],
   "source": [
    "\n",
    "cv2.imwrite(\"r.png\", rois[0])"
   ]
  },
  {
   "cell_type": "code",
   "execution_count": null,
   "metadata": {},
   "outputs": [],
   "source": [
    "\n",
    "# extract board from input image\n",
    "board, location = find_board(blue)\n",
    "\n",
    "cv2.imwrite(\"board.png\", board)\n",
    "# print(gray.shape)\n",
    "rois = split_boxes(gray)\n",
    "# rois = np.array(rois).reshape(-1, 9, 9, 1)"
   ]
  },
  {
   "cell_type": "code",
   "execution_count": 66,
   "metadata": {},
   "outputs": [],
   "source": [
    "m = []\n",
    "\n",
    "for i,r in enumerate(rois):\n",
    "    predicted = reader.readtext(r, allowlist='0123456789')\n",
    "    m.append(int(predicted[0][-2]) if predicted and len(predicted) > 0 else 0)"
   ]
  },
  {
   "cell_type": "code",
   "execution_count": 67,
   "metadata": {},
   "outputs": [
    {
     "data": {
      "text/plain": [
       "array([[0, 3, 0, 0, 9, 0, 2, 0, 1],\n",
       "       [0, 0, 0, 0, 1, 0, 4, 7, 0],\n",
       "       [0, 0, 0, 7, 0, 6, 0, 9, 0],\n",
       "       [0, 0, 0, 0, 0, 8, 3, 0, 6],\n",
       "       [0, 2, 0, 0, 0, 0, 0, 5, 0],\n",
       "       [4, 0, 5, 3, 0, 0, 0, 0, 0],\n",
       "       [0, 1, 0, 6, 0, 2, 0, 0, 0],\n",
       "       [0, 6, 2, 0, 4, 0, 0, 0, 0],\n",
       "       [3, 0, 9, 0, 8, 0, 0, 2, 0]])"
      ]
     },
     "execution_count": 67,
     "metadata": {},
     "output_type": "execute_result"
    }
   ],
   "source": [
    "np.array(m).reshape((9,9))"
   ]
  }
 ],
 "metadata": {
  "kernelspec": {
   "display_name": "Python 3",
   "language": "python",
   "name": "python3"
  },
  "language_info": {
   "codemirror_mode": {
    "name": "ipython",
    "version": 3
   },
   "file_extension": ".py",
   "mimetype": "text/x-python",
   "name": "python",
   "nbconvert_exporter": "python",
   "pygments_lexer": "ipython3",
   "version": "3.11.1"
  }
 },
 "nbformat": 4,
 "nbformat_minor": 2
}
